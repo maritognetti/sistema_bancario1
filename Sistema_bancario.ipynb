{
 "cells": [
  {
   "cell_type": "code",
   "execution_count": 14,
   "metadata": {},
   "outputs": [
    {
     "name": "stdout",
     "output_type": "stream",
     "text": [
      "Saldo insuficiente para operação\n",
      "\n",
      " ======EXTRATO======\n",
      "Depósito: R$ 4.00\n",
      "Depósito: R$ 100.00\n",
      "Saque: R$45.00\n",
      "\n",
      "Saldo: R$59.00\n",
      "===================\n"
     ]
    }
   ],
   "source": [
    "menu = \"\"\"\"\n",
    "\n",
    "[d] Depositar\n",
    "[s] Saque\n",
    "[e] Visualizar extrato\n",
    "[q] Sair\n",
    "\n",
    "=>\"\"\"\n",
    "\n",
    "saldo = 0\n",
    "limite = 500\n",
    "extrato = \"\"\n",
    "numero_saques = 0\n",
    "LIMITE_SAQUES = 3\n",
    "\n",
    "while True:\n",
    "    opcao = input(menu)\n",
    "\n",
    "    if opcao == \"d\":\n",
    "        valor =float(input(\"Informe o valor do depósito: \"))\n",
    "        if valor > 0:\n",
    "            saldo += valor\n",
    "            extrato += f\"Depósito: R$ {valor:.2f}\\n\"\n",
    "        else:\n",
    "            print(\"Operação falhou! O valor informado é inválido.\")\n",
    "\n",
    "\n",
    "    elif opcao == \"s\":\n",
    "        valor =float(input(\"Informe o valor do saque: \"))\n",
    "        excedeu_saldo = valor > saldo\n",
    "        excedeu_limite = valor > limite \n",
    "        excedeu_saques = numero_saques >= LIMITE_SAQUES\n",
    "\n",
    "        if excedeu_saldo:\n",
    "            print(\"Saldo insuficiente para operação\")\n",
    "        elif excedeu_limite:\n",
    "            print(\"Valor do saque é maior que o limite\")\n",
    "        elif excedeu_saques:\n",
    "            print(\"Número máximo de saques foi excedido\")\n",
    "        elif valor > 0:\n",
    "            1saldo -= valor\n",
    "            extrato += f\"Saque: R${valor:.2f}\"\n",
    "            numero_saques += 1\n",
    "        else:\n",
    "            print(\"Operacao falhou! O valor informado é inválido\")\n",
    "\n",
    "    \n",
    "    elif opcao == \"e\":\n",
    "        print(\"\\n ======EXTRATO======\")\n",
    "        print(\"\\n Não foram realizadas movimentaões\" if not extrato else extrato)\n",
    "        print(f\"\\nSaldo: R${saldo:.2f}\")\n",
    "        print(\"===================\")\n",
    "    elif opcao == \"q\":\n",
    "        break\n",
    "    else:\n",
    "        print(\"Operação inválida, por favor selecione novamente a operação desejada.\")"
   ]
  }
 ],
 "metadata": {
  "kernelspec": {
   "display_name": "Python 3",
   "language": "python",
   "name": "python3"
  },
  "language_info": {
   "codemirror_mode": {
    "name": "ipython",
    "version": 3
   },
   "file_extension": ".py",
   "mimetype": "text/x-python",
   "name": "python",
   "nbconvert_exporter": "python",
   "pygments_lexer": "ipython3",
   "version": "3.12.6"
  }
 },
 "nbformat": 4,
 "nbformat_minor": 2
}
